{
 "cells": [
  {
   "cell_type": "code",
   "execution_count": 1,
   "id": "1119956e",
   "metadata": {},
   "outputs": [
    {
     "data": {
      "text/plain": [
       "[[1, 1, 1], [0, 1, 0], [1, 0, 0], [0, 0, 0]]"
      ]
     },
     "execution_count": 1,
     "metadata": {},
     "output_type": "execute_result"
    }
   ],
   "source": [
    "import matplotlib.pyplot as plt\n",
    "import numpy as np\n"
   ]
  },
  {
   "cell_type": "code",
   "execution_count": null,
   "id": "67eafa21",
   "metadata": {},
   "outputs": [],
   "source": [
    "def notAnd(a,b):\n",
    "    return not(a and b) \n",
    "\n",
    "      \n",
    "def Or(a,b):\n",
    "    return (a or b)\n",
    "\n",
    "def neural(a,b):\n",
    "    return (Or(a,b) and notAnd(a,b))\n",
    "\n",
    "\n",
    "print(neural(0,1))"
   ]
  },
  {
   "cell_type": "code",
   "execution_count": 7,
   "id": "f72f4086",
   "metadata": {},
   "outputs": [],
   "source": [
    "def sigmoide(z) :\n",
    "   \n",
    "    return 1/(1+np.exp(-z))\n",
    "class Neural:\n",
    "    def __init__(self, x,y,layer1=2,layer2=1):\n",
    "        self.x = np.c_[ x, np.ones(len(x)) ]\n",
    "        self.y = y\n",
    "        self.Z1=0\n",
    "        self.Z2=0\n",
    "      \n",
    "        \n",
    "        self.layer1=0\n",
    "        self.layer2=0\n",
    "        \n",
    "        self.neurone_layer1=layer1\n",
    "        self.neurone_layer2=layer2\n",
    "      \n",
    "        \n",
    "        self.theta_layer0=np.random.rand(self.x.shape[1],self.neurone_layer1)\n",
    "        self.theta_layer1=np.random.rand(self.neurone_layer1+1,self.neurone_layer2)\n",
    "        \n",
    "    def forward(self) :\n",
    "        self.Z1=self.x @ self.theta_layer0\n",
    "        self.layer1=sigmoide(self.Z1)\n",
    "        self.layer1=np.c_[ self.layer1, np.ones(len(self.layer1)) ]\n",
    "        self.Z2=self.layer1 @ self.theta_layer1\n",
    "        self.layer2=sigmoide(self.Z2) \n",
    "      #  self.layer2=np.c_[ self.layer2, np.ones(len(self.layer2)) ]\n",
    "\n",
    "\n",
    "    \n",
    "    def bark(self):\n",
    "        print(\"Woof!\")\n",
    "\n"
   ]
  },
  {
   "cell_type": "code",
   "execution_count": 8,
   "id": "3f1fe93f",
   "metadata": {},
   "outputs": [
    {
     "name": "stdout",
     "output_type": "stream",
     "text": [
      "[[1.27431888 0.77457172]\n",
      " [0.40184795 0.20062364]\n",
      " [1.0164716  0.69939181]\n",
      " [0.14400068 0.12544372]]\n",
      "[[0.78148117 0.68450902 1.        ]\n",
      " [0.59913157 0.54998835 1.        ]\n",
      " [0.73428474 0.66805291 1.        ]\n",
      " [0.53593809 0.53131987 1.        ]]\n",
      "*********************\n",
      "[[1.10314956]\n",
      " [1.03008761]\n",
      " [1.08774452]\n",
      " [1.01010354]]\n",
      "[[0.75084977]\n",
      " [0.73693288]\n",
      " [0.74795676]\n",
      " [0.73304041]]\n"
     ]
    }
   ],
   "source": [
    "x=np.array(([1,1],[1,0],[0,1],[0,0]))\n",
    "y=np.array(([0],[1],[1],[0]))\n",
    "n=Neural(x,y)\n",
    "n.forward()\n",
    "print(n.Z1)\n",
    "print(n.layer1)\n",
    "print(\"*********************\")\n",
    "print(n.Z2)\n",
    "print(n.layer2)\n"
   ]
  },
  {
   "cell_type": "code",
   "execution_count": null,
   "id": "b195ac5b",
   "metadata": {},
   "outputs": [],
   "source": []
  }
 ],
 "metadata": {
  "kernelspec": {
   "display_name": "Python 3 (ipykernel)",
   "language": "python",
   "name": "python3"
  },
  "language_info": {
   "codemirror_mode": {
    "name": "ipython",
    "version": 3
   },
   "file_extension": ".py",
   "mimetype": "text/x-python",
   "name": "python",
   "nbconvert_exporter": "python",
   "pygments_lexer": "ipython3",
   "version": "3.9.13"
  }
 },
 "nbformat": 4,
 "nbformat_minor": 5
}
